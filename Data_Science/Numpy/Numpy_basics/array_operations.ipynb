{
 "cells": [
  {
   "cell_type": "code",
   "execution_count": null,
   "id": "39aff558",
   "metadata": {},
   "outputs": [],
   "source": [
    "import numpy as np"
   ]
  },
  {
   "cell_type": "markdown",
   "id": "95c59894",
   "metadata": {},
   "source": [
    "### Element-wise Arithmetic"
   ]
  },
  {
   "cell_type": "code",
   "execution_count": null,
   "id": "d9924d48",
   "metadata": {},
   "outputs": [],
   "source": [
    "# NumPy performs these operations element-wise (vectorized).\n",
    "\n",
    "a = np.array([1,2,3])\n",
    "b = np.array([4,5,6])\n",
    "\n",
    "print(\"a + b:\", a + b) # add\n",
    "print(\"a - b:\", a - b) # subtract\n",
    "print(\"a * b:\", a * b) # Multiplication\n",
    "print(\"a / b:\", a / b) # Divide"
   ]
  },
  {
   "cell_type": "markdown",
   "id": "5cf2da3e",
   "metadata": {},
   "source": [
    "### Scalar Operations"
   ]
  },
  {
   "cell_type": "code",
   "execution_count": null,
   "id": "97f2747f",
   "metadata": {},
   "outputs": [],
   "source": [
    "a = np.array([1,2,3])\n",
    "b = np.array([4,5,6])\n",
    "\n",
    "print(\"a + 10:\", a + 10)\n",
    "print(\"a * 2:\", a * 10)\n"
   ]
  },
  {
   "cell_type": "markdown",
   "id": "56022925",
   "metadata": {},
   "source": [
    "### Mathematical Functions"
   ]
  },
  {
   "cell_type": "code",
   "execution_count": null,
   "id": "4320065f",
   "metadata": {},
   "outputs": [],
   "source": [
    "a = np.array([3,5,7])\n",
    "b = np.array([2,4,6])\n",
    "\n",
    "# To find the sum of a.\n",
    "print(\"Sum of a:\",np.sum(a))\n",
    "\n",
    "# To the mean of b.\n",
    "print(\"Mean of b:\",np.mean(b))\n",
    "\n",
    "# To find the Max number in array.\n",
    "print(\"Max of b:\",np.max(b))\n",
    "\n",
    "# To find the Min number in array.\n",
    "print(\"Min of a:\",np.min(a))\n",
    "\n",
    "# Square of array.\n",
    "print(\"Square of a:\",np.square(a))"
   ]
  },
  {
   "cell_type": "markdown",
   "id": "1fadd207",
   "metadata": {},
   "source": [
    "### Dot Product"
   ]
  },
  {
   "cell_type": "code",
   "execution_count": null,
   "id": "c725d000",
   "metadata": {},
   "outputs": [],
   "source": [
    "arr1 = np.array([3,5,7])\n",
    "arr2 = np.array([2,4,6])\n",
    "dot_product = np.dot(arr1, arr2)\n",
    "print(\"Dot Product: \", dot_product)   # 3*2 + 5*4 + 7*6 = 68"
   ]
  },
  {
   "cell_type": "code",
   "execution_count": null,
   "id": "8cfb3513",
   "metadata": {},
   "outputs": [],
   "source": [
    "arr1 = np.array([[1,3,5],    # 2x3\n",
    "                 [7,9,11]])\n",
    "\n",
    "arr2 = np.array([[2,4,6],    # 2x3\n",
    "                 [8,10,12]])\n",
    "\n",
    "print(\"arr1:\\n\",arr1)\n",
    "print(\"arr2:\\n\",arr2,\"\\n\")\n",
    "\n",
    "print(\"\\narr2 after Transpose:\\n\",arr2.T,\"\\n\")\n",
    "\n",
    "dot_product = np.dot(arr1, arr2.T)\n",
    "print(\"Dot Product: \\n\", dot_product)"
   ]
  },
  {
   "cell_type": "markdown",
   "id": "5379f10c",
   "metadata": {},
   "source": [
    "### Matrix Multiplication (@ operator)"
   ]
  },
  {
   "cell_type": "code",
   "execution_count": null,
   "id": "77fe4ff7",
   "metadata": {},
   "outputs": [],
   "source": [
    "mat1 = np.array([[1,2],\n",
    "                 [3,4]])\n",
    "\n",
    "mat2 = np.array([[5,6],\n",
    "                 [7,8]])\n",
    "\n",
    "print(\"mat1:\\n\",mat1)\n",
    "print(\"mat2:\\n\",mat2,\"\\n\")\n",
    "\n",
    "# product = mat1 @ mat2\n",
    "# print(\"Matrix product:\\n\", product)"
   ]
  },
  {
   "cell_type": "code",
   "execution_count": null,
   "id": "6b4dc36a",
   "metadata": {},
   "outputs": [],
   "source": [
    "# Shape: (2, 2, 3) => 2 matrices of size 2x3\n",
    "A = np.array([\n",
    "    [[1, 2, 3],\n",
    "     [4, 5, 6]],\n",
    "\n",
    "    [[7, 8, 9],\n",
    "     [10, 11, 12]]\n",
    "])\n",
    "\n",
    "# Shape: (2, 3, 2) => 2 matrices of size 3x2\n",
    "B = np.array([\n",
    "    [[1, 2],\n",
    "     [3, 4],\n",
    "     [5, 6]],\n",
    "\n",
    "    [[6, 5],\n",
    "     [4, 3],\n",
    "     [2, 1]]\n",
    "])\n",
    "\n",
    "result = A @ B\n",
    "print(\"Result: \\n\",result,\"\\n\")\n",
    "print(\"Dimension: \",result.shape)  # Output: (2, 2, 2)"
   ]
  },
  {
   "cell_type": "markdown",
   "id": "9b8000cd",
   "metadata": {},
   "source": [
    "### Broadcasting"
   ]
  },
  {
   "cell_type": "code",
   "execution_count": null,
   "id": "e42433c9",
   "metadata": {},
   "outputs": [],
   "source": [
    "a = np.array([[1],[2],[3]])\n",
    "b = np.array([10, 20, 30])\n",
    "\n",
    "broadcasted = a + b\n",
    "print(\"Broadcasted result:\\n\", broadcasted)"
   ]
  }
 ],
 "metadata": {
  "kernelspec": {
   "display_name": "Python (py130)",
   "language": "python",
   "name": "py130"
  },
  "language_info": {
   "codemirror_mode": {
    "name": "ipython",
    "version": 3
   },
   "file_extension": ".py",
   "mimetype": "text/x-python",
   "name": "python",
   "nbconvert_exporter": "python",
   "pygments_lexer": "ipython3",
   "version": "3.10.18"
  }
 },
 "nbformat": 4,
 "nbformat_minor": 5
}
