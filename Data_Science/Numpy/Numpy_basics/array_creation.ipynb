{
 "cells": [
  {
   "cell_type": "code",
   "execution_count": null,
   "id": "d7e46b9a",
   "metadata": {},
   "outputs": [],
   "source": [
    "import numpy as np\n",
    "import time"
   ]
  },
  {
   "cell_type": "markdown",
   "id": "56e84ce2",
   "metadata": {},
   "source": [
    "## Creating Arrays"
   ]
  },
  {
   "cell_type": "code",
   "execution_count": null,
   "id": "b91aa2f7",
   "metadata": {},
   "outputs": [],
   "source": [
    "# 1D Array\n",
    "arr_1d = np.array([1,2,3,4,5])\n",
    "print(f\"1D Array: {arr_1d}\\n\")\n",
    "\n",
    "# 2D Array\n",
    "arr_2d = np.array([[1,2,3],[4,5,6]])\n",
    "print(f\"2D Array: \\n{arr_2d}\\n\")\n",
    "\n",
    "# 3D Array\n",
    "arr_3d = np.array([\n",
    "    [[1,2,3],[4,5,6]],\n",
    "    [[7,8,9],[0,0,0]]\n",
    "    ])\n",
    "print(f\"3D Array: \\n{arr_3d}\")"
   ]
  },
  {
   "cell_type": "markdown",
   "id": "89e975a7",
   "metadata": {},
   "source": [
    "## List vs NumPy Array"
   ]
  },
  {
   "cell_type": "code",
   "execution_count": null,
   "id": "6bfb7fc8",
   "metadata": {},
   "outputs": [],
   "source": [
    "# Multiplication Using List\n",
    "py_list = [1,2,3,4,5]\n",
    "print(f\"Python List Multiplication: {py_list * 2}\")\n",
    "\n",
    "# Multiplication Using Numpy array\n",
    "np_array = np.array([1,2,3,4,5])\n",
    "print(f\"Numpy Array Multiplication: {np_array * 2}\")\n",
    "\n",
    "# Python list time\n",
    "start = time.time()\n",
    "py_list = [i*2 for i in range(1000000)]\n",
    "print(f\"\\nList Operation Time: {time.time() - start}\")\n",
    "\n",
    "# NumPy array time\n",
    "start = time.time()\n",
    "np_array = np.arange(1000000)\n",
    "print(f\"Numpy Operation Time: {time.time() - start}\")"
   ]
  },
  {
   "cell_type": "markdown",
   "id": "403bebd8",
   "metadata": {},
   "source": [
    "## Array Creation Functions "
   ]
  },
  {
   "cell_type": "code",
   "execution_count": null,
   "id": "651b7acb",
   "metadata": {},
   "outputs": [],
   "source": [
    "# Creates a matrix filled with zeros\n",
    "zeros = np.zeros((3,3))\n",
    "print(f\"Zeros array:\\n{zeros}\\n\")\n",
    "\n",
    "# Creates a matrix filled with ones\n",
    "one = np.ones((2,3))\n",
    "print(f\"One array:\\n{one}\\n\")\n",
    "\n",
    "# Creates a matrix filled with the value 5\n",
    "full = np.full((2,2),5)\n",
    "print(f\"full array:\\n{full}\\n\")\n",
    "\n",
    "# Creates a random floats matrix between 0 and 1\n",
    "random = np.random.random((2,3))\n",
    "print(f\"Random array:\\n{random}\\n\")\n",
    "\n",
    "# Integers from 1 to 10\n",
    "random = np.random.randint(1, 10, (2,3))\n",
    "print(f\"Random array:\\n{random}\\n\")\n",
    "\n",
    "# Normally distributed values (mean=0, std=1)\n",
    "random = np.random.randn(2,3)\n",
    "print(f\"Random array:\\n{random}\\n\")\n",
    "\n",
    "# Sequence Array\n",
    "sequence = np.arange(0, 11, 2)\n",
    "print(f\"Sequence array: {sequence}\\n\")"
   ]
  },
  {
   "cell_type": "markdown",
   "id": "f244e775",
   "metadata": {},
   "source": [
    "## Array Attributes"
   ]
  },
  {
   "cell_type": "code",
   "execution_count": null,
   "id": "a8e55a1f",
   "metadata": {},
   "outputs": [],
   "source": [
    "arr = np.array([[1,2,3],\n",
    "                [4,5,6]])\n",
    "\n",
    "# To find the shape of matrix\n",
    "print(f\"Shape: {arr.shape}\\n\")\n",
    "\n",
    "# To find the dimension of matrix\n",
    "print(f\"Dimension: {arr.ndim}\\n\")\n",
    "\n",
    "# To find the Size of matrix (Elements)\n",
    "print(f\"Size: {arr.size}\\n\")\n",
    "\n",
    "# Data Type of matrix\n",
    "print(f\"Data Type: {arr.dtype}\\n\")\n"
   ]
  },
  {
   "cell_type": "markdown",
   "id": "f5de6577",
   "metadata": {},
   "source": [
    "## Array Reshaping"
   ]
  },
  {
   "cell_type": "code",
   "execution_count": null,
   "id": "f96ff1f4",
   "metadata": {},
   "outputs": [],
   "source": [
    "arr = np.arange(12)\n",
    "print(f\"Original array: {arr}\\n\")\n",
    "\n",
    "# Reshaping original array to 3x4 matrix\n",
    "reshaped = arr.reshape((3,4))\n",
    "print(f\"Reshaped array:\\n{reshaped}\\n\")\n",
    "\n",
    "# Flattening reshaped array to original array\n",
    "flattened = reshaped.flatten()\n",
    "print(f\"Flattened array: {flattened}\\n\")\n",
    "\n",
    "# ravel (return view, instead of copy)\n",
    "raveled = reshaped.ravel()\n",
    "print(f\"Raveled array: {raveled}\\n\")\n",
    "\n",
    "# Transpose the 3x4 array to 4x3 array\n",
    "transpose = reshaped.T\n",
    "print(f\"Transposed array:\\n{transpose}\\n\")"
   ]
  },
  {
   "cell_type": "markdown",
   "id": "f4f22d33",
   "metadata": {},
   "source": [
    "## Practice Task"
   ]
  },
  {
   "cell_type": "code",
   "execution_count": null,
   "id": "82af715a",
   "metadata": {},
   "outputs": [],
   "source": [
    "# Create a 3x3 NumPy array with values from 1 to 9\n",
    "arr = np.arange(1,10)\n",
    "reshaped = arr.reshape((3,3))\n",
    "print(f\"Array:\\n{reshaped}\\n\")\n",
    "\n",
    "print(f\"Shape: {reshaped.shape}\")\n",
    "print(f\"size: {reshaped.size}\")\n",
    "print(f\"Dimension: {reshaped.ndim}\")"
   ]
  }
 ],
 "metadata": {
  "kernelspec": {
   "display_name": "Python (py130)",
   "language": "python",
   "name": "py130"
  },
  "language_info": {
   "codemirror_mode": {
    "name": "ipython",
    "version": 3
   },
   "file_extension": ".py",
   "mimetype": "text/x-python",
   "name": "python",
   "nbconvert_exporter": "python",
   "pygments_lexer": "ipython3",
   "version": "3.10.18"
  }
 },
 "nbformat": 4,
 "nbformat_minor": 5
}
