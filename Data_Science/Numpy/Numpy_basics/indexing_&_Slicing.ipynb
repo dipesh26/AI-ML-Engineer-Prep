{
 "cells": [
  {
   "cell_type": "code",
   "execution_count": null,
   "id": "13058250",
   "metadata": {},
   "outputs": [],
   "source": [
    "import numpy as np"
   ]
  },
  {
   "cell_type": "markdown",
   "id": "975c61ae",
   "metadata": {},
   "source": [
    "### Basic Indexing (1D array)"
   ]
  },
  {
   "cell_type": "code",
   "execution_count": null,
   "id": "9df21a53",
   "metadata": {},
   "outputs": [],
   "source": [
    "arr = np.array([10, 20, 30, 40, 50])\n",
    "\n",
    "print(\"Element at index 0:\", arr[0])\n",
    "print(\"Element at index 3:\", arr[3])\n",
    "print(\"Last Element:\", arr[-1])"
   ]
  },
  {
   "cell_type": "markdown",
   "id": "9d6119b0",
   "metadata": {},
   "source": [
    "### Basic Slicing (1D array)"
   ]
  },
  {
   "cell_type": "code",
   "execution_count": null,
   "id": "f7d3a644",
   "metadata": {},
   "outputs": [],
   "source": [
    "arr = np.array([10,20,30,40,50,60,70,80,90])\n",
    "\n",
    "# # From index 1 to 6\n",
    "print(\"Basic Slicing:\", arr[1:6])\n",
    "\n",
    "# # From starts to index 3\n",
    "print(\"From Start Slicing:\", arr[:3])\n",
    "\n",
    "# # From index 6 end\n",
    "print(\"To End Slicing:\", arr[6:])\n",
    "\n",
    "# # From index 1 to 6 with step 2\n",
    "print(\"Slicing with step:\", arr[1:6:2])\n",
    "\n",
    "# Reversed Array\n",
    "print(\"Reversed array:\", arr[::-1])"
   ]
  },
  {
   "cell_type": "markdown",
   "id": "e226295e",
   "metadata": {},
   "source": [
    "### Slicing 2D Arrays"
   ]
  },
  {
   "cell_type": "code",
   "execution_count": null,
   "id": "9702c73a",
   "metadata": {},
   "outputs": [],
   "source": [
    "arr_2d = np.array([[10,20,30],\n",
    "                   [40,50,60],\n",
    "                   [70,80,90]])\n",
    "\n",
    "# Find Specific element in 2D Array\n",
    "print(\"Specific element:\", arr_2d[1, 2])  # row [1] & index [2] => 60\n",
    "\n",
    "# Entire row\n",
    "print(\"Entire row:\", arr_2d[1, :])  # row [1] & All Columns => [40 50 60]\n",
    "\n",
    "# Entire Column\n",
    "print(\"Entire Column:\", arr_2d[:,1])  # All rows & Column [1] => [20 50 80]\n",
    "\n",
    "# Specific Array\n",
    "print(\"Specific Array:\\n\", arr_2d[0:2, 1:])  # From row[0] to [1] & Column[1] to [end] =>  [[20 30],[50 60]]"
   ]
  },
  {
   "cell_type": "markdown",
   "id": "91d4157a",
   "metadata": {},
   "source": [
    "### Sorting Array"
   ]
  },
  {
   "cell_type": "code",
   "execution_count": null,
   "id": "9098f9f1",
   "metadata": {},
   "outputs": [],
   "source": [
    "# 1D Array Sorting\n",
    "unsorted_arr = np.array([9,1,8,3,7,2,4,6,5])\n",
    "print(\"Sorted Array:\",np.sort(unsorted_arr),\"\\n\")\n",
    "\n",
    "# 2D Array Sorting\n",
    "arr2d_unsorted = np.array([[3,1],\n",
    "                           [2,3],\n",
    "                           [1,2]])\n",
    "print(\"Sorted 2D Array by Column:\\n\",np.sort(arr2d_unsorted, axis=0),\"\\n\")\n",
    "print(\"Sorted 2D Array by row:\\n\",np.sort(arr2d_unsorted, axis=1))\n"
   ]
  },
  {
   "cell_type": "markdown",
   "id": "76f84d8d",
   "metadata": {},
   "source": [
    "### Filtering Array"
   ]
  },
  {
   "cell_type": "code",
   "execution_count": null,
   "id": "4fb21e4b",
   "metadata": {},
   "outputs": [],
   "source": [
    "# Filtering Even numbers from Array\n",
    "numbers = np.array([1,2,3,4,5,6,7,8,9,10])\n",
    "\n",
    "even_number = numbers[numbers % 2 == 0]  # expression\n",
    "print(\"Even Numbers:\",even_number)"
   ]
  },
  {
   "cell_type": "markdown",
   "id": "3e4ab752",
   "metadata": {},
   "source": [
    "### Filtering with Mask"
   ]
  },
  {
   "cell_type": "code",
   "execution_count": null,
   "id": "5ebfc1f6",
   "metadata": {},
   "outputs": [],
   "source": [
    "numbers = np.array([1,2,3,4,5,6,7,8,9,10])\n",
    "\n",
    "mask = numbers > 5\n",
    "# print(\"mask:\",mask)\n",
    "print(\"Numbers Greater than 5:\",numbers[mask])   # expression "
   ]
  },
  {
   "cell_type": "markdown",
   "id": "ccf42c5e",
   "metadata": {},
   "source": [
    "### Fancy Indexing"
   ]
  },
  {
   "cell_type": "code",
   "execution_count": null,
   "id": "ce69d5d7",
   "metadata": {},
   "outputs": [],
   "source": [
    "numbers = np.array([1,2,3,4,5,6,7,8,9,10])\n",
    "\n",
    "indices = [0, 4, 7]  # 0th, 4th, & 7th position of numbers\n",
    "print(\"Indices:\",numbers[indices],\"\\n\")\n",
    "\n",
    "# Using \"Where\"\n",
    "where_result = np.where(numbers > 5)    # expression \n",
    "print(\"Where numbers greater than 5:\",numbers[where_result])"
   ]
  },
  {
   "cell_type": "markdown",
   "id": "6fa58817",
   "metadata": {},
   "source": [
    " It works like this--\n",
    " if numbers > 5:\n",
    "     numbers * 2\n",
    " else:\n",
    "     numbers"
   ]
  },
  {
   "cell_type": "code",
   "execution_count": null,
   "id": "b2a2d703",
   "metadata": {},
   "outputs": [],
   "source": [
    "condition_arr = np.where(numbers > 5, numbers*2, numbers)\n",
    "print(\"Output:\",condition_arr)"
   ]
  },
  {
   "cell_type": "markdown",
   "id": "6127da43",
   "metadata": {},
   "source": [
    "### Concatenate Array"
   ]
  },
  {
   "cell_type": "code",
   "execution_count": null,
   "id": "9dce1996",
   "metadata": {},
   "outputs": [],
   "source": [
    "arr1 = np.array([1,2,3])\n",
    "arr2 = np.array([4,5,6])\n",
    "\n",
    "combine = np.concatenate((arr1, arr2))\n",
    "print(\"Concatenated Array:\",combine)"
   ]
  },
  {
   "cell_type": "markdown",
   "id": "2401c036",
   "metadata": {},
   "source": [
    "### Array Compatibility"
   ]
  },
  {
   "cell_type": "code",
   "execution_count": null,
   "id": "96cb29cd",
   "metadata": {},
   "outputs": [],
   "source": [
    "arr1 = np.array([1,2,3])\n",
    "arr2 = np.array([4,5,6])\n",
    "arr3 = np.array([7,8,9])\n",
    "\n",
    "print(\"Compatibility shape:\", arr1.shape == arr2.shape)"
   ]
  },
  {
   "cell_type": "markdown",
   "id": "2bb7dfca",
   "metadata": {},
   "source": [
    "### Add Array Vertically"
   ]
  },
  {
   "cell_type": "code",
   "execution_count": null,
   "id": "7b8f2fd3",
   "metadata": {},
   "outputs": [],
   "source": [
    "org_array = np.array([[1,2],\n",
    "                     [3,4]])\n",
    "\n",
    "new_row = np.array([[5,6]])\n",
    "\n",
    "add_vertical = np.vstack((org_array, new_row))\n",
    "\n",
    "print(\"Original Array:\\n\",org_array,\"\\n\")\n",
    "print(\"with new Row:\\n\",add_vertical)"
   ]
  },
  {
   "cell_type": "markdown",
   "id": "40a2fd4a",
   "metadata": {},
   "source": [
    "### Add Array Horizontally"
   ]
  },
  {
   "cell_type": "code",
   "execution_count": null,
   "id": "cf9a8ce3",
   "metadata": {},
   "outputs": [],
   "source": [
    "org_array = np.array([[1,2],\n",
    "                     [3,4]])\n",
    "\n",
    "new_column = np.array([[5],[6]])\n",
    "\n",
    "add_vertical = np.hstack((org_array, new_column))\n",
    "\n",
    "print(\"Original Array:\\n\",org_array,\"\\n\")\n",
    "print(\"with new Column:\\n\",add_vertical)"
   ]
  },
  {
   "cell_type": "markdown",
   "id": "3a7f281e",
   "metadata": {},
   "source": [
    "### Delete Element in Array"
   ]
  },
  {
   "cell_type": "code",
   "execution_count": 18,
   "id": "929215e3",
   "metadata": {},
   "outputs": [
    {
     "name": "stdout",
     "output_type": "stream",
     "text": [
      "Array after deletion:  [1 2 4 5 6]\n"
     ]
    }
   ],
   "source": [
    "arr = np.array([1,2,3,4,5,6])\n",
    "\n",
    "delete = np.delete(arr, 2)\n",
    "print(\"Array after deletion: \",delete)"
   ]
  }
 ],
 "metadata": {
  "kernelspec": {
   "display_name": "Python (py130)",
   "language": "python",
   "name": "py130"
  },
  "language_info": {
   "codemirror_mode": {
    "name": "ipython",
    "version": 3
   },
   "file_extension": ".py",
   "mimetype": "text/x-python",
   "name": "python",
   "nbconvert_exporter": "python",
   "pygments_lexer": "ipython3",
   "version": "3.10.18"
  }
 },
 "nbformat": 4,
 "nbformat_minor": 5
}
