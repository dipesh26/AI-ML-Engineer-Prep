{
 "cells": [
  {
   "cell_type": "code",
   "execution_count": null,
   "id": "d7e46b9a",
   "metadata": {},
   "outputs": [],
   "source": [
    "import numpy as np"
   ]
  },
  {
   "cell_type": "markdown",
   "id": "56e84ce2",
   "metadata": {},
   "source": [
    "## Creating Arrays"
   ]
  },
  {
   "cell_type": "code",
   "execution_count": null,
   "id": "b91aa2f7",
   "metadata": {},
   "outputs": [],
   "source": [
    "# 1D Array\n",
    "arr_1d = np.array([1,2,3,4,5])\n",
    "print(f\"1D Array: {arr_1d}\\n\")\n",
    "\n",
    "# 2D Array\n",
    "arr_2d = np.array([[1,2,3,],[4,5,6]])\n",
    "print(f\"2D Array: \\n{arr_2d}\\n\")\n",
    "\n",
    "# 3D Array\n",
    "arr_3d = np.array([\n",
    "    [[1,2,3],[4,5,6]],\n",
    "    [[7,8,9],[0,0,0]]\n",
    "    ])\n",
    "print(f\"3D Array: \\n{arr_3d}\")"
   ]
  },
  {
   "cell_type": "markdown",
   "id": "89e975a7",
   "metadata": {},
   "source": [
    "## List vs NumPy Array"
   ]
  },
  {
   "cell_type": "code",
   "execution_count": 11,
   "id": "6bfb7fc8",
   "metadata": {},
   "outputs": [
    {
     "name": "stdout",
     "output_type": "stream",
     "text": [
      "Python List Multiplication: [1, 2, 3, 4, 5, 1, 2, 3, 4, 5]\n",
      "Numpy Array Multiplication: [ 2  4  6  8 10]\n",
      "\n",
      "List Operation Time: 0.12097597122192383\n",
      "Numpy Operation Time: 0.0\n"
     ]
    }
   ],
   "source": [
    "# Using List\n",
    "py_list = [1,2,3,4,5]\n",
    "print(f\"Python List Multiplication: {py_list * 2}\")\n",
    "\n",
    "# Using Numpy array\n",
    "np_array = np.array([1,2,3,4,5])\n",
    "print(f\"Numpy Array Multiplication: {np_array * 2}\")\n",
    "\n",
    "import time\n",
    "start = time.time()\n",
    "py_list = [i*2 for i in range(1000000)]\n",
    "print(f\"\\nList Operation Time: {time.time() - start}\")\n",
    "\n",
    "start = time.time()\n",
    "np_array = np.arange(1000000)\n",
    "print(f\"Numpy Operation Time: {time.time() - start}\")"
   ]
  }
 ],
 "metadata": {
  "kernelspec": {
   "display_name": "Python (py130)",
   "language": "python",
   "name": "py130"
  },
  "language_info": {
   "codemirror_mode": {
    "name": "ipython",
    "version": 3
   },
   "file_extension": ".py",
   "mimetype": "text/x-python",
   "name": "python",
   "nbconvert_exporter": "python",
   "pygments_lexer": "ipython3",
   "version": "3.10.18"
  }
 },
 "nbformat": 4,
 "nbformat_minor": 5
}
