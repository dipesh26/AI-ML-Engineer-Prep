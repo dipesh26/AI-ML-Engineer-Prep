{
 "cells": [
  {
   "cell_type": "markdown",
   "id": "5f607c6e",
   "metadata": {},
   "source": [
    "## Universal Functions (ufuncs) are NumPy's built-in vectorized functions that perform element-wise operations."
   ]
  },
  {
   "cell_type": "code",
   "execution_count": 1,
   "id": "ef531fa9",
   "metadata": {},
   "outputs": [],
   "source": [
    "import numpy as np"
   ]
  },
  {
   "cell_type": "markdown",
   "id": "c4fe21b0",
   "metadata": {},
   "source": [
    "### Common Arithmetic ufuncs"
   ]
  },
  {
   "cell_type": "code",
   "execution_count": 6,
   "id": "a8d956a3",
   "metadata": {},
   "outputs": [
    {
     "name": "stdout",
     "output_type": "stream",
     "text": [
      "Add: [5 7 9]\n",
      "Subtract: [-3 -3 -3]\n",
      "Multiply: [ 4 10 18]\n",
      "Divide: [0.25 0.4  0.5 ]\n",
      "Power: [  1  32 729]\n"
     ]
    }
   ],
   "source": [
    "a = np.array([1, 2, 3])\n",
    "b = np.array([4, 5, 6])\n",
    "\n",
    "print(\"Add:\",np.add(a, b))\n",
    "print(\"Subtract:\",np.subtract(a, b))\n",
    "print(\"Multiply:\",np.multiply(a, b))\n",
    "print(\"Divide:\",np.divide(a, b))\n",
    "print(\"Power:\",np.power(a, b))"
   ]
  },
  {
   "cell_type": "markdown",
   "id": "f77f071e",
   "metadata": {},
   "source": [
    "### Unary Operations "
   ]
  },
  {
   "cell_type": "code",
   "execution_count": null,
   "id": "914755e8",
   "metadata": {},
   "outputs": [
    {
     "name": "stdout",
     "output_type": "stream",
     "text": [
      "Absolute: [1 0 1 2 3]\n",
      "Square Root: [1.         1.41421356 1.73205081]\n",
      "Exponential: [ 0.36787944  1.          2.71828183  7.3890561  20.08553692]\n",
      "Logarithm: [0.         0.69314718 1.09861229]\n"
     ]
    }
   ],
   "source": [
    "arr = np.array([-1, 0, 1, 2, 3])\n",
    "\n",
    "print(\"Absolute:\", np.abs(arr))     # Converts all negative values to positive.\n",
    "print(\"Square Root:\", np.sqrt(arr[2:]))   # Takes the square root of each element.  \n",
    "print(\"Exponential:\", np.exp(arr))  # Exponential (e^x)     \n",
    "print(\"Logarithm:\", np.log(arr[2:]))  # Takes the natural log (log base e) of each value.    "
   ]
  },
  {
   "cell_type": "markdown",
   "id": "9ef51d89",
   "metadata": {},
   "source": [
    "### Statistical ufuncs"
   ]
  },
  {
   "cell_type": "code",
   "execution_count": 24,
   "id": "d22a813f",
   "metadata": {},
   "outputs": [
    {
     "name": "stdout",
     "output_type": "stream",
     "text": [
      "sum: 21\n",
      "Mean: 3.5\n",
      "Max: 6\n",
      "Min: 1\n",
      "Standard Deviation: 1.707825127659933\n",
      "Variance: 2.9166666666666665\n"
     ]
    }
   ],
   "source": [
    "arr = np.array([[1, 2, 3],\n",
    "                [4, 5, 6]])\n",
    "\n",
    "print(\"sum:\",np.sum(arr))\n",
    "print(\"Mean:\",np.mean(arr))\n",
    "print(\"Max:\",np.max(arr))\n",
    "print(\"Min:\",np.min(arr))\n",
    "print(\"Standard Deviation:\",np.std(arr))\n",
    "print(\"Variance:\", np.var(arr))"
   ]
  },
  {
   "cell_type": "markdown",
   "id": "496f5dd0",
   "metadata": {},
   "source": [
    "### Trigonometric ufuncs"
   ]
  },
  {
   "cell_type": "code",
   "execution_count": 23,
   "id": "2b42ec5a",
   "metadata": {},
   "outputs": [
    {
     "name": "stdout",
     "output_type": "stream",
     "text": [
      "sine: [0.0000000e+00 1.0000000e+00 1.2246468e-16]\n",
      "Cosine: [ 1.000000e+00  6.123234e-17 -1.000000e+00]\n",
      "Tan: [ 0.00000000e+00  1.63312394e+16 -1.22464680e-16]\n"
     ]
    }
   ],
   "source": [
    "angle = np.array([0, np.pi/2, np.pi])\n",
    "print(\"sine:\",np.sin(angle))\n",
    "print(\"Cosine:\",np.cos(angle))\n",
    "print(\"Tan:\",np.tan(angle))"
   ]
  }
 ],
 "metadata": {
  "kernelspec": {
   "display_name": "Python (py130)",
   "language": "python",
   "name": "py130"
  },
  "language_info": {
   "codemirror_mode": {
    "name": "ipython",
    "version": 3
   },
   "file_extension": ".py",
   "mimetype": "text/x-python",
   "name": "python",
   "nbconvert_exporter": "python",
   "pygments_lexer": "ipython3",
   "version": "3.10.18"
  }
 },
 "nbformat": 4,
 "nbformat_minor": 5
}
