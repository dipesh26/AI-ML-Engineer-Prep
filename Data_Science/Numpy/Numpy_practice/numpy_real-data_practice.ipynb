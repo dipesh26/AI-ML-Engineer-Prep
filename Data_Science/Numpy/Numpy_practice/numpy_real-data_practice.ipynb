{
 "cells": [
  {
   "cell_type": "code",
   "execution_count": 57,
   "id": "b0432e11",
   "metadata": {},
   "outputs": [],
   "source": [
    "import numpy as np"
   ]
  },
  {
   "cell_type": "markdown",
   "id": "833115cf",
   "metadata": {},
   "source": [
    "### Data structure: [restaurant_id, 2021, 2022, 2023, 2024]"
   ]
  },
  {
   "cell_type": "code",
   "execution_count": 58,
   "id": "29ff10ef",
   "metadata": {},
   "outputs": [
    {
     "name": "stdout",
     "output_type": "stream",
     "text": [
      "Shape of Data: (6, 6)\n",
      "Dimension of Data: 2\n",
      "Size of Data: 36\n",
      "Data Type of Data: <U21\n",
      "Sum of Data: [800000 610000 990000 900000 780000]\n",
      "Average Sales of 'Paradise Biryani': 200000.0\n"
     ]
    }
   ],
   "source": [
    "# Data\n",
    "sales_data = np.array([\n",
    "[\"id\", \"rest_name\",       \"2021\", \"2022\", \"2023\", \"2024\"],\n",
    "[1,    \"Paradise Biryani\", 150000, 180000, 220000, 250000], # Paradise Biryani\n",
    "[2,    \"Beijing Bites\",    120000, 140000, 160000, 190000], # Beijing Bites\n",
    "[3,    \"Pizza Hub\",        200000, 230000, 260000, 300000], # Pizza Hub\n",
    "[4,    \"Burger Point\",     180000, 210000, 240000, 270000], # Burger Point\n",
    "[5,    \"Chai Point\",       160000, 185000, 205000, 230000]  # Chai Point\n",
    "])\n",
    "\n",
    "numeric_data = sales_data[1: ,2:].astype(int)\n",
    "\n",
    "print(\"Shape of Data:\",sales_data.shape)\n",
    "print(\"Dimension of Data:\",sales_data.ndim)\n",
    "print(\"Size of Data:\",sales_data.size)\n",
    "print(\"Data Type of Data:\",sales_data.dtype)\n",
    "print(\"Sum of Data:\",np.sum(numeric_data, axis=1))\n",
    "print(f\"Average Sales of '{sales_data[1,1]}': {np.mean(numeric_data[0],)}\")\n",
    "# print(numeric_data)"
   ]
  },
  {
   "cell_type": "markdown",
   "id": "a61c4440",
   "metadata": {},
   "source": [
    "#### Average Sales per restaurant (using loop)"
   ]
  },
  {
   "cell_type": "code",
   "execution_count": 59,
   "id": "892dece0",
   "metadata": {},
   "outputs": [
    {
     "name": "stdout",
     "output_type": "stream",
     "text": [
      "Average Sales of Paradise Biryani: ₹200000.0\n",
      "Average Sales of Beijing Bites: ₹152500.0\n",
      "Average Sales of Pizza Hub: ₹247500.0\n",
      "Average Sales of Burger Point: ₹225000.0\n",
      "Average Sales of Chai Point: ₹195000.0\n"
     ]
    }
   ],
   "source": [
    "for i in range(len(numeric_data)):\n",
    "    names = sales_data[i+1, 1]\n",
    "    avg_sales = np.mean(numeric_data[i])\n",
    "    print(f\"Average Sales of {names}: ₹{avg_sales}\")"
   ]
  },
  {
   "cell_type": "markdown",
   "id": "4fa18b2b",
   "metadata": {},
   "source": [
    "#### List all the names of Restaurants in data."
   ]
  },
  {
   "cell_type": "code",
   "execution_count": 60,
   "id": "b7174d73",
   "metadata": {},
   "outputs": [
    {
     "name": "stdout",
     "output_type": "stream",
     "text": [
      "Restaurant names: ['Paradise Biryani' 'Beijing Bites' 'Pizza Hub' 'Burger Point'\n",
      " 'Chai Point']\n"
     ]
    }
   ],
   "source": [
    "print(\"Restaurant names:\",sales_data[1: ,1])"
   ]
  },
  {
   "cell_type": "markdown",
   "id": "4773e565",
   "metadata": {},
   "source": [
    "#### Average sales of zomato in 2023"
   ]
  },
  {
   "cell_type": "code",
   "execution_count": 61,
   "id": "b3ed6599",
   "metadata": {},
   "outputs": [
    {
     "name": "stdout",
     "output_type": "stream",
     "text": [
      "Average Sales of Zomato in 2023: 217000.0\n"
     ]
    }
   ],
   "source": [
    "sales_2023 = numeric_data[0: ,2]\n",
    "print(\"Average Sales of Zomato in 2023:\",np.mean(sales_2023))"
   ]
  },
  {
   "cell_type": "markdown",
   "id": "799f3217",
   "metadata": {},
   "source": [
    "#### Average sales of zomato year wise"
   ]
  },
  {
   "cell_type": "code",
   "execution_count": 72,
   "id": "c155fef6",
   "metadata": {},
   "outputs": [
    {
     "name": "stdout",
     "output_type": "stream",
     "text": [
      "Average sales of zomato in 2021: ₹162000.0\n",
      "Average sales of zomato in 2022: ₹189000.0\n",
      "Average sales of zomato in 2023: ₹217000.0\n",
      "Average sales of zomato in 2024: ₹248000.0\n"
     ]
    }
   ],
   "source": [
    "years = sales_data[0, 2:]\n",
    "\n",
    "for i in range(len(years)):\n",
    "    avg_year_sales = np.mean(numeric_data[: ,i])\n",
    "    print(f\"Average sales of zomato in {years[i]}: ₹{avg_year_sales}\")"
   ]
  },
  {
   "cell_type": "markdown",
   "id": "25fcd766",
   "metadata": {},
   "source": [
    "#### Minimum Sales per Restaurant"
   ]
  },
  {
   "cell_type": "code",
   "execution_count": 71,
   "id": "16966d41",
   "metadata": {},
   "outputs": [
    {
     "name": "stdout",
     "output_type": "stream",
     "text": [
      "Minimum sales of Paradise Biryani: ₹150000\n",
      "Minimum sales of Beijing Bites: ₹120000\n",
      "Minimum sales of Pizza Hub: ₹200000\n",
      "Minimum sales of Burger Point: ₹180000\n",
      "Minimum sales of Chai Point: ₹160000\n"
     ]
    }
   ],
   "source": [
    "for i in range(len(numeric_data)):\n",
    "    names = sales_data[i+1 ,1]\n",
    "    min_sales = np.min(numeric_data[i])\n",
    "    print(f\"Minimum sales of {names}: ₹{min_sales}\")"
   ]
  },
  {
   "cell_type": "markdown",
   "id": "0265fcf7",
   "metadata": {},
   "source": [
    "#### Maximum Sales per Restaurant"
   ]
  },
  {
   "cell_type": "code",
   "execution_count": 70,
   "id": "66d6f166",
   "metadata": {},
   "outputs": [
    {
     "name": "stdout",
     "output_type": "stream",
     "text": [
      "Minimum sales of Paradise Biryani: ₹250000\n",
      "Minimum sales of Beijing Bites: ₹190000\n",
      "Minimum sales of Pizza Hub: ₹300000\n",
      "Minimum sales of Burger Point: ₹270000\n",
      "Minimum sales of Chai Point: ₹230000\n"
     ]
    }
   ],
   "source": [
    "for i in range(len(numeric_data)):\n",
    "    names = sales_data[i+1 ,1]\n",
    "    min_sales = np.max(numeric_data[i])\n",
    "    print(f\"Minimum sales of {names}: ₹{min_sales}\")"
   ]
  },
  {
   "cell_type": "markdown",
   "id": "d2d5b0bf",
   "metadata": {},
   "source": [
    "#### Minimum Sales per year"
   ]
  },
  {
   "cell_type": "code",
   "execution_count": 69,
   "id": "12f29730",
   "metadata": {},
   "outputs": [
    {
     "name": "stdout",
     "output_type": "stream",
     "text": [
      "Minimum Sales in 2021: ₹120000\n",
      "Minimum Sales in 2022: ₹140000\n",
      "Minimum Sales in 2023: ₹160000\n",
      "Minimum Sales in 2024: ₹190000\n"
     ]
    }
   ],
   "source": [
    "years = sales_data[0, 2:]\n",
    "\n",
    "for i in range(len(years)):\n",
    "    min_year_sales = np.min(numeric_data[:, i])\n",
    "    print(f\"Minimum Sales in {years[i]}: ₹{min_year_sales}\")"
   ]
  },
  {
   "cell_type": "markdown",
   "id": "14bf61ed",
   "metadata": {},
   "source": [
    "#### Cumulative Sales per Restaurant"
   ]
  },
  {
   "cell_type": "code",
   "execution_count": 76,
   "id": "379775ed",
   "metadata": {},
   "outputs": [
    {
     "name": "stdout",
     "output_type": "stream",
     "text": [
      "Cumulative Sales of Restaurants:\n",
      "Paradise Biryani: [150000 330000 550000 800000]\n",
      "Beijing Bites: [120000 260000 420000 610000]\n",
      "Pizza Hub: [200000 430000 690000 990000]\n",
      "Burger Point: [180000 390000 630000 900000]\n",
      "Chai Point: [160000 345000 550000 780000]\n"
     ]
    }
   ],
   "source": [
    "print(f\"Cumulative Sales of Restaurants:\")\n",
    "for i in range(len(numeric_data)):\n",
    "    names = sales_data[i+1, 1]\n",
    "    cumsum = np.cumsum(numeric_data[i])\n",
    "    print(f\"{names}: {cumsum}\")"
   ]
  }
 ],
 "metadata": {
  "kernelspec": {
   "display_name": "Python (py130)",
   "language": "python",
   "name": "py130"
  },
  "language_info": {
   "codemirror_mode": {
    "name": "ipython",
    "version": 3
   },
   "file_extension": ".py",
   "mimetype": "text/x-python",
   "name": "python",
   "nbconvert_exporter": "python",
   "pygments_lexer": "ipython3",
   "version": "3.10.18"
  }
 },
 "nbformat": 4,
 "nbformat_minor": 5
}
