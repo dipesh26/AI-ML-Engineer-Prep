{
 "cells": [
  {
   "cell_type": "code",
   "execution_count": null,
   "id": "e5510984",
   "metadata": {},
   "outputs": [],
   "source": [
    "import numpy as np"
   ]
  },
  {
   "cell_type": "markdown",
   "id": "625be1e5",
   "metadata": {},
   "source": [
    "### Save array to a file"
   ]
  },
  {
   "cell_type": "code",
   "execution_count": 6,
   "id": "f95cf4f0",
   "metadata": {},
   "outputs": [
    {
     "name": "stdout",
     "output_type": "stream",
     "text": [
      "Array Saved Successfully!\n"
     ]
    }
   ],
   "source": [
    "data = np.array([[1, 2, 3],\n",
    "                 [4, 5, 6],\n",
    "                 [7, 8, 9]])\n",
    "\n",
    "np.savetxt(\"my_array.csv\", data, delimiter=',', fmt='%d')\n",
    "print(\"Array Saved Successfully!\")"
   ]
  },
  {
   "cell_type": "markdown",
   "id": "6b7a54d8",
   "metadata": {},
   "source": [
    "###  Load array from a file"
   ]
  },
  {
   "cell_type": "code",
   "execution_count": 7,
   "id": "c7d095c2",
   "metadata": {},
   "outputs": [
    {
     "name": "stdout",
     "output_type": "stream",
     "text": [
      "Loaded Data:\n",
      " [[1 2 3]\n",
      " [4 5 6]\n",
      " [7 8 9]]\n"
     ]
    }
   ],
   "source": [
    "load_data = np.loadtxt(\"my_array.csv\", delimiter=',', dtype=int)\n",
    "print(\"Loaded Data:\\n\",load_data)"
   ]
  },
  {
   "cell_type": "markdown",
   "id": "8cc32f4d",
   "metadata": {},
   "source": [
    "### Load Data using np.genfromtxt()"
   ]
  },
  {
   "cell_type": "code",
   "execution_count": 9,
   "id": "fa5847f0",
   "metadata": {},
   "outputs": [
    {
     "name": "stdout",
     "output_type": "stream",
     "text": [
      "['4,5,6' '7,8,9']\n"
     ]
    }
   ],
   "source": [
    "# Better than loadtxt() for missing/dirty data\n",
    "# Handles missing values (like ,,)\n",
    "# Allows mixed datatypes (like strings + numbers)\n",
    "# Better for real-world messy .csv files\n",
    "\n",
    "data = np.genfromtxt(\"my_array.csv\", defaultfmt=',', dtype=None, encoding=\"utf-8\", skip_header=1)\n",
    "print(data)"
   ]
  },
  {
   "cell_type": "markdown",
   "id": "98e31123",
   "metadata": {},
   "source": [
    "### Save & Load Binary Data    "
   ]
  },
  {
   "cell_type": "code",
   "execution_count": 14,
   "id": "2714a7ee",
   "metadata": {},
   "outputs": [
    {
     "name": "stdout",
     "output_type": "stream",
     "text": [
      "Data Saved Successfully!\n",
      "\n",
      "Data Loaded Successfully!\n",
      " [[1 2 3]\n",
      " [4 5 6]\n",
      " [7 8 9]]\n"
     ]
    }
   ],
   "source": [
    "arr = np.arange(1, 10).reshape(3, 3)\n",
    "\n",
    "# save Data\n",
    "np.save(\"my_data.npy\", arr)\n",
    "print(\"Data Saved Successfully!\\n\")\n",
    "\n",
    "# load Data\n",
    "data = np.load(\"my_data.npy\")\n",
    "print(\"Data Loaded Successfully!\\n\",data)"
   ]
  },
  {
   "cell_type": "markdown",
   "id": "55908c1f",
   "metadata": {},
   "source": [
    "### Save multiple arrays together"
   ]
  },
  {
   "cell_type": "code",
   "execution_count": 21,
   "id": "512f4dd4",
   "metadata": {},
   "outputs": [
    {
     "name": "stdout",
     "output_type": "stream",
     "text": [
      "Multiple Arrays Saved Successfully!\n",
      "\n",
      "Array 1:\n",
      " [[ 7  8  9]\n",
      " [10 11 12]\n",
      " [13 14 15]] \n",
      "\n",
      "Array 2:\n",
      " [[ 3  4  5]\n",
      " [ 6  7  8]\n",
      " [ 9 10 11]]\n"
     ]
    }
   ],
   "source": [
    "arr_1 = np.arange(7, 16).reshape(3, 3)\n",
    "arr_2 = np.arange(3, 12).reshape(3, 3)\n",
    "\n",
    "np.savez(\"multiple_arrays.npz\", a=arr_1, b=arr_2)\n",
    "print(\"Multiple Arrays Saved Successfully!\\n\")\n",
    "\n",
    "load_multi_array = np.load(\"multiple_arrays.npz\")\n",
    "print(\"Array 1:\\n\",load_multi_array[\"a\"],\"\\n\")\n",
    "print(\"Array 2:\\n\",load_multi_array[\"b\"])"
   ]
  }
 ],
 "metadata": {
  "kernelspec": {
   "display_name": "Python (py130)",
   "language": "python",
   "name": "py130"
  },
  "language_info": {
   "codemirror_mode": {
    "name": "ipython",
    "version": 3
   },
   "file_extension": ".py",
   "mimetype": "text/x-python",
   "name": "python",
   "nbconvert_exporter": "python",
   "pygments_lexer": "ipython3",
   "version": "3.10.18"
  }
 },
 "nbformat": 4,
 "nbformat_minor": 5
}
