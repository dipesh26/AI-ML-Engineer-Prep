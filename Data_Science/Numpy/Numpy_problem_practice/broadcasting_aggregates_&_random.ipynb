{
 "cells": [
  {
   "cell_type": "code",
   "execution_count": 3,
   "id": "06b00c47",
   "metadata": {},
   "outputs": [],
   "source": [
    "import numpy as np"
   ]
  },
  {
   "cell_type": "markdown",
   "id": "83af812f",
   "metadata": {},
   "source": [
    "### 1. Create two arrays of shapes (5,1) and (1,4) and add them using broadcasting."
   ]
  },
  {
   "cell_type": "code",
   "execution_count": null,
   "id": "9308cd90",
   "metadata": {},
   "outputs": [
    {
     "name": "stdout",
     "output_type": "stream",
     "text": [
      "[[11 12 13 14]\n",
      " [21 22 23 24]\n",
      " [31 32 33 34]\n",
      " [41 42 43 44]\n",
      " [51 52 53 54]]\n"
     ]
    }
   ],
   "source": [
    "arr_1 = np.array([[10],\n",
    "                  [20],\n",
    "                  [30],\n",
    "                  [40],\n",
    "                  [50]])\n",
    "\n",
    "arr_2 = np.array([1,2,3,4])\n",
    "\n",
    "broadcast = arr_1 + arr_2\n",
    "print(broadcast)"
   ]
  },
  {
   "cell_type": "markdown",
   "id": "69a07e9e",
   "metadata": {},
   "source": [
    "### 2. Simulate rolling a dice 1000 times using np.random.randint and find the frequency of each face."
   ]
  },
  {
   "cell_type": "code",
   "execution_count": 17,
   "id": "d231acd0",
   "metadata": {},
   "outputs": [
    {
     "name": "stdout",
     "output_type": "stream",
     "text": [
      "1 : 183\n",
      "2 : 157\n",
      "3 : 191\n",
      "4 : 152\n",
      "5 : 163\n",
      "6 : 154\n"
     ]
    }
   ],
   "source": [
    "faces = np.array([1,2,3,4,5,6])\n",
    "roll_dice = np.random.randint(1, 7, 1000)\n",
    "counts = np.bincount(roll_dice)[1:7]\n",
    "\n",
    "for face, count in zip(faces,counts):\n",
    "    print(f\"{face} : {count}\")"
   ]
  },
  {
   "cell_type": "markdown",
   "id": "f9e40dc3",
   "metadata": {},
   "source": [
    "### 3. Create a matrix and normalize it (make all values between 0 and 1)."
   ]
  },
  {
   "cell_type": "code",
   "execution_count": 32,
   "id": "cee916a6",
   "metadata": {},
   "outputs": [
    {
     "name": "stdout",
     "output_type": "stream",
     "text": [
      "[[0.         0.02325581 0.04651163 0.06976744]\n",
      " [0.23255814 0.25581395 0.27906977 0.30232558]\n",
      " [0.46511628 0.48837209 0.51162791 0.53488372]\n",
      " [0.69767442 0.72093023 0.74418605 0.76744186]\n",
      " [0.93023256 0.95348837 0.97674419 1.        ]]\n"
     ]
    }
   ],
   "source": [
    "matrix = np.array([[11, 12, 13, 14],\n",
    "                   [21, 22, 23, 24],\n",
    "                   [31, 32, 33, 34],\n",
    "                   [41, 42, 43, 44],\n",
    "                   [51, 52, 53, 54]])\n",
    "\n",
    "min_val = np.min(matrix)\n",
    "max_val = np.max(matrix)\n",
    "\n",
    "normalized = (matrix - min_val) / ( max_val - min_val)\n",
    "print(normalized)"
   ]
  },
  {
   "cell_type": "markdown",
   "id": "f81d9146",
   "metadata": {},
   "source": [
    "### 4. Generate a 4×4 matrix of random integers between 1 and 100. Replace values > 50 with 50."
   ]
  },
  {
   "cell_type": "code",
   "execution_count": 43,
   "id": "0a9731ef",
   "metadata": {},
   "outputs": [
    {
     "name": "stdout",
     "output_type": "stream",
     "text": [
      "Original Matrix:\n",
      " [[63  4 61 21]\n",
      " [ 4 12 17 25]\n",
      " [52 15 56 39]\n",
      " [85 65 99 93]] \n",
      "\n",
      "Matrix where value > 50 = 50:\n",
      " [[50  4 50 21]\n",
      " [ 4 12 17 25]\n",
      " [50 15 50 39]\n",
      " [50 50 50 50]]\n"
     ]
    }
   ],
   "source": [
    "matrix = np.random.randint(1, 100, size=(4,4))\n",
    "print(\"Original Matrix:\\n\",matrix,\"\\n\")\n",
    "matrix[matrix > 50] = 50\n",
    "print(\"Matrix where value > 50 = 50:\\n\",matrix)\n"
   ]
  },
  {
   "cell_type": "markdown",
   "id": "392ab72f",
   "metadata": {},
   "source": [
    "### 5. Calculate cumulative sum and cumulative product of an array."
   ]
  },
  {
   "cell_type": "code",
   "execution_count": 51,
   "id": "425afe03",
   "metadata": {},
   "outputs": [
    {
     "name": "stdout",
     "output_type": "stream",
     "text": [
      "Cumulative Sum:\n",
      " [[ 63  97 158 179]\n",
      " [ 24  36  53  78]\n",
      " [ 52  67 123 162]\n",
      " [ 85 150 249 342]] \n",
      "\n",
      "Cumulative product:\n",
      " [[      63     2142   130662  2743902]\n",
      " [      24      288     4896   122400]\n",
      " [      52      780    43680  1703520]\n",
      " [      85     5525   546975 50868675]]\n"
     ]
    }
   ],
   "source": [
    "arr = np.array([[63, 34, 61, 21],\n",
    "                [24, 12, 17, 25],\n",
    "                [52, 15, 56, 39],\n",
    "                [85, 65, 99, 93]])\n",
    "\n",
    "cumulative_sum = np.cumsum(arr,axis=1)\n",
    "cumulative_prod = np.cumprod(arr, axis=1)\n",
    "print(\"Cumulative Sum:\\n\",cumulative_sum,\"\\n\")\n",
    "print(\"Cumulative product:\\n\",cumulative_prod)\n"
   ]
  }
 ],
 "metadata": {
  "kernelspec": {
   "display_name": "Python (py130)",
   "language": "python",
   "name": "py130"
  },
  "language_info": {
   "codemirror_mode": {
    "name": "ipython",
    "version": 3
   },
   "file_extension": ".py",
   "mimetype": "text/x-python",
   "name": "python",
   "nbconvert_exporter": "python",
   "pygments_lexer": "ipython3",
   "version": "3.10.18"
  }
 },
 "nbformat": 4,
 "nbformat_minor": 5
}
