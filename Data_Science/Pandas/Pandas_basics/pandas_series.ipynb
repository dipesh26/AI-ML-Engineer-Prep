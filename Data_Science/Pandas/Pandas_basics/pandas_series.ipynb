{
 "cells": [
  {
   "cell_type": "markdown",
   "id": "66f71270",
   "metadata": {},
   "source": [
    "A Series is a one-dimensional labeled array capable of holding any data type. The axis labels are collectively called the index."
   ]
  },
  {
   "cell_type": "code",
   "execution_count": 3,
   "id": "cabd8c3e",
   "metadata": {},
   "outputs": [],
   "source": [
    "import numpy as np\n",
    "import pandas as pd"
   ]
  },
  {
   "cell_type": "markdown",
   "id": "f7c28f29",
   "metadata": {},
   "source": [
    "### Creating Series\n",
    "There are multiple ways to create a pandas Series:"
   ]
  },
  {
   "cell_type": "code",
   "execution_count": 11,
   "id": "fd94b8df",
   "metadata": {},
   "outputs": [],
   "source": [
    "labels = ['a', 'b', 'c']\n",
    "my_list = [10, 20, 30]\n",
    "arr = np.array([10, 20 ,30])\n",
    "dic = {1:10, 2:20, 3:30}\n",
    "dic_2 = {'a':10, 'b':20, 'c':30}"
   ]
  },
  {
   "cell_type": "code",
   "execution_count": 5,
   "id": "f198b3b8",
   "metadata": {},
   "outputs": [
    {
     "data": {
      "text/plain": [
       "0    10\n",
       "1    20\n",
       "2    30\n",
       "dtype: int64"
      ]
     },
     "execution_count": 5,
     "metadata": {},
     "output_type": "execute_result"
    }
   ],
   "source": [
    "pd.Series(my_list)"
   ]
  },
  {
   "cell_type": "code",
   "execution_count": 6,
   "id": "e7ec27a8",
   "metadata": {},
   "outputs": [
    {
     "data": {
      "text/plain": [
       "a    10\n",
       "b    20\n",
       "c    30\n",
       "dtype: int64"
      ]
     },
     "execution_count": 6,
     "metadata": {},
     "output_type": "execute_result"
    }
   ],
   "source": [
    "pd.Series(my_list, index=labels)"
   ]
  },
  {
   "cell_type": "code",
   "execution_count": 7,
   "id": "67339dbb",
   "metadata": {},
   "outputs": [
    {
     "data": {
      "text/plain": [
       "0    10\n",
       "1    20\n",
       "2    30\n",
       "dtype: int64"
      ]
     },
     "execution_count": 7,
     "metadata": {},
     "output_type": "execute_result"
    }
   ],
   "source": [
    "pd.Series(arr)"
   ]
  },
  {
   "cell_type": "code",
   "execution_count": 8,
   "id": "e6d9fe2e",
   "metadata": {},
   "outputs": [
    {
     "data": {
      "text/plain": [
       "a    10\n",
       "b    20\n",
       "c    30\n",
       "dtype: int64"
      ]
     },
     "execution_count": 8,
     "metadata": {},
     "output_type": "execute_result"
    }
   ],
   "source": [
    "pd.Series(arr, index=labels)"
   ]
  },
  {
   "cell_type": "code",
   "execution_count": 9,
   "id": "8af525f1",
   "metadata": {},
   "outputs": [
    {
     "data": {
      "text/plain": [
       "1    10\n",
       "2    20\n",
       "3    30\n",
       "dtype: int64"
      ]
     },
     "execution_count": 9,
     "metadata": {},
     "output_type": "execute_result"
    }
   ],
   "source": [
    "pd.Series(dic)"
   ]
  },
  {
   "cell_type": "code",
   "execution_count": 12,
   "id": "6128a964",
   "metadata": {},
   "outputs": [
    {
     "data": {
      "text/plain": [
       "a    10\n",
       "b    20\n",
       "c    30\n",
       "dtype: int64"
      ]
     },
     "execution_count": 12,
     "metadata": {},
     "output_type": "execute_result"
    }
   ],
   "source": [
    "pd.Series(dic_2)"
   ]
  }
 ],
 "metadata": {
  "kernelspec": {
   "display_name": "Python (py130)",
   "language": "python",
   "name": "py130"
  },
  "language_info": {
   "codemirror_mode": {
    "name": "ipython",
    "version": 3
   },
   "file_extension": ".py",
   "mimetype": "text/x-python",
   "name": "python",
   "nbconvert_exporter": "python",
   "pygments_lexer": "ipython3",
   "version": "3.10.18"
  }
 },
 "nbformat": 4,
 "nbformat_minor": 5
}
