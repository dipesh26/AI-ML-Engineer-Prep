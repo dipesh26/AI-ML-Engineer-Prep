{
 "cells": [
  {
   "cell_type": "code",
   "execution_count": 3,
   "id": "13058250",
   "metadata": {},
   "outputs": [],
   "source": [
    "import numpy as np"
   ]
  },
  {
   "cell_type": "markdown",
   "id": "975c61ae",
   "metadata": {},
   "source": [
    "### Basic Indexing (1D array)"
   ]
  },
  {
   "cell_type": "code",
   "execution_count": 4,
   "id": "9df21a53",
   "metadata": {},
   "outputs": [
    {
     "name": "stdout",
     "output_type": "stream",
     "text": [
      "Element at index 0: 10\n",
      "Element at index 3: 40\n",
      "Last Element: 50\n"
     ]
    }
   ],
   "source": [
    "arr = np.array([10, 20, 30, 40, 50])\n",
    "\n",
    "print(\"Element at index 0:\", arr[0])\n",
    "print(\"Element at index 3:\", arr[3])\n",
    "print(\"Last Element:\", arr[-1])"
   ]
  },
  {
   "cell_type": "markdown",
   "id": "9d6119b0",
   "metadata": {},
   "source": [
    "### Basic Slicing (1D array)"
   ]
  },
  {
   "cell_type": "code",
   "execution_count": 5,
   "id": "f7d3a644",
   "metadata": {},
   "outputs": [
    {
     "name": "stdout",
     "output_type": "stream",
     "text": [
      "Basic Slicing: [20 30 40 50 60]\n",
      "From Start Slicing: [10 20 30]\n",
      "To End Slicing: [70 80 90]\n",
      "Slicing with step: [20 40 60]\n",
      "Reversed array: [90 80 70 60 50 40 30 20 10]\n"
     ]
    }
   ],
   "source": [
    "arr = np.array([10,20,30,40,50,60,70,80,90])\n",
    "\n",
    "# # From index 1 to 6\n",
    "print(\"Basic Slicing:\", arr[1:6])\n",
    "\n",
    "# # From starts to index 3\n",
    "print(\"From Start Slicing:\", arr[:3])\n",
    "\n",
    "# # From index 6 end\n",
    "print(\"To End Slicing:\", arr[6:])\n",
    "\n",
    "# # From index 1 to 6 with step 2\n",
    "print(\"Slicing with step:\", arr[1:6:2])\n",
    "\n",
    "# Reversed Array\n",
    "print(\"Reversed array:\", arr[::-1])"
   ]
  },
  {
   "cell_type": "markdown",
   "id": "e226295e",
   "metadata": {},
   "source": [
    "### Slicing 2D Arrays"
   ]
  },
  {
   "cell_type": "code",
   "execution_count": 6,
   "id": "9702c73a",
   "metadata": {},
   "outputs": [
    {
     "name": "stdout",
     "output_type": "stream",
     "text": [
      "Specific element: 60\n",
      "Entire row: [40 50 60]\n",
      "Entire Column: [20 50 80]\n",
      "Specific Array:\n",
      " [[20 30]\n",
      " [50 60]]\n"
     ]
    }
   ],
   "source": [
    "arr_2d = np.array([[10,20,30],\n",
    "                   [40,50,60],\n",
    "                   [70,80,90]])\n",
    "\n",
    "# Find Specific element in 2D Array\n",
    "print(\"Specific element:\", arr_2d[1, 2])  # row [1] & index [2] => 60\n",
    "\n",
    "# Entire row\n",
    "print(\"Entire row:\", arr_2d[1, :])  # row [1] & All Columns => [40 50 60]\n",
    "\n",
    "# Entire Column\n",
    "print(\"Entire Column:\", arr_2d[:,1])  # All rows & Column [1] => [20 50 80]\n",
    "\n",
    "# Specific Array\n",
    "print(\"Specific Array:\\n\", arr_2d[0:2, 1:])  # From row[0] to [1] & Column[1] to [end] =>  [[20 30],[50 60]]"
   ]
  },
  {
   "cell_type": "markdown",
   "id": "91d4157a",
   "metadata": {},
   "source": [
    "### Sorting Array"
   ]
  },
  {
   "cell_type": "code",
   "execution_count": 7,
   "id": "9098f9f1",
   "metadata": {},
   "outputs": [
    {
     "name": "stdout",
     "output_type": "stream",
     "text": [
      "Sorted Array: [1 2 3 4 5 6 7 8 9] \n",
      "\n",
      "Sorted 2D Array by Column:\n",
      " [[1 1]\n",
      " [2 2]\n",
      " [3 3]] \n",
      "\n",
      "Sorted 2D Array by row:\n",
      " [[1 3]\n",
      " [2 3]\n",
      " [1 2]]\n"
     ]
    }
   ],
   "source": [
    "# 1D Array Sorting\n",
    "unsorted_arr = np.array([9,1,8,3,7,2,4,6,5])\n",
    "print(\"Sorted Array:\",np.sort(unsorted_arr),\"\\n\")\n",
    "\n",
    "# 2D Array Sorting\n",
    "arr2d_unsorted = np.array([[3,1],\n",
    "                           [2,3],\n",
    "                           [1,2]])\n",
    "print(\"Sorted 2D Array by Column:\\n\",np.sort(arr2d_unsorted, axis=0),\"\\n\")\n",
    "print(\"Sorted 2D Array by row:\\n\",np.sort(arr2d_unsorted, axis=1))\n"
   ]
  },
  {
   "cell_type": "markdown",
   "id": "76f84d8d",
   "metadata": {},
   "source": [
    "### Filtering Array"
   ]
  },
  {
   "cell_type": "code",
   "execution_count": 8,
   "id": "4fb21e4b",
   "metadata": {},
   "outputs": [
    {
     "name": "stdout",
     "output_type": "stream",
     "text": [
      "Even Numbers: [ 2  4  6  8 10]\n"
     ]
    }
   ],
   "source": [
    "# Filtering Even numbers from Array\n",
    "numbers = np.array([1,2,3,4,5,6,7,8,9,10])\n",
    "\n",
    "even_number = numbers[numbers % 2 == 0]  # expression\n",
    "print(\"Even Numbers:\",even_number)"
   ]
  },
  {
   "cell_type": "markdown",
   "id": "3e4ab752",
   "metadata": {},
   "source": [
    "### Filtering with Mask"
   ]
  },
  {
   "cell_type": "code",
   "execution_count": 9,
   "id": "5ebfc1f6",
   "metadata": {},
   "outputs": [
    {
     "name": "stdout",
     "output_type": "stream",
     "text": [
      "Numbers Greater than 5: [ 6  7  8  9 10]\n"
     ]
    }
   ],
   "source": [
    "numbers = np.array([1,2,3,4,5,6,7,8,9,10])\n",
    "\n",
    "mask = numbers > 5\n",
    "# print(\"mask:\",mask)\n",
    "print(\"Numbers Greater than 5:\",numbers[mask])   # expression "
   ]
  },
  {
   "cell_type": "markdown",
   "id": "d8543e70",
   "metadata": {},
   "source": [
    "### Combine Conditions"
   ]
  },
  {
   "cell_type": "code",
   "execution_count": 10,
   "id": "2c1707af",
   "metadata": {},
   "outputs": [
    {
     "name": "stdout",
     "output_type": "stream",
     "text": [
      "Filtered Array: [20 25]\n"
     ]
    }
   ],
   "source": [
    "arr = np.array([10, 15, 20, 25, 30])\n",
    "\n",
    "filtered = arr[(arr > 15) & (arr <= 25)]\n",
    "print(\"Filtered Array:\",filtered)"
   ]
  },
  {
   "cell_type": "markdown",
   "id": "c0266df2",
   "metadata": {},
   "source": [
    "### Masking in 2D Arrays"
   ]
  },
  {
   "cell_type": "code",
   "execution_count": 11,
   "id": "129d9eb9",
   "metadata": {},
   "outputs": [
    {
     "name": "stdout",
     "output_type": "stream",
     "text": [
      "Mask:\n",
      " [[False False False]\n",
      " [ True  True  True]] \n",
      "\n",
      "Filtered:\n",
      " [20 25 30]\n"
     ]
    }
   ],
   "source": [
    "arr2d = np.array([[5, 10, 15],\n",
    "                  [20, 25, 30]])\n",
    "\n",
    "mask = arr2d >= 20\n",
    "print(\"Mask:\\n\",mask,\"\\n\")\n",
    "\n",
    "print(\"Filtered:\\n\",arr2d[mask])"
   ]
  },
  {
   "cell_type": "markdown",
   "id": "ccf42c5e",
   "metadata": {},
   "source": [
    "### Fancy Indexing"
   ]
  },
  {
   "cell_type": "code",
   "execution_count": 12,
   "id": "ce69d5d7",
   "metadata": {},
   "outputs": [
    {
     "name": "stdout",
     "output_type": "stream",
     "text": [
      "Indices: [1 5 8] \n",
      "\n",
      "Where numbers greater than 5: [ 6  7  8  9 10]\n"
     ]
    }
   ],
   "source": [
    "numbers = np.array([1,2,3,4,5,6,7,8,9,10])\n",
    "\n",
    "indices = [0, 4, 7]  # 0th, 4th, & 7th position of numbers\n",
    "print(\"Indices:\",numbers[indices],\"\\n\")\n",
    "\n",
    "# Using \"Where\"\n",
    "where_result = np.where(numbers > 5)    # expression \n",
    "print(\"Where numbers greater than 5:\",numbers[where_result])"
   ]
  },
  {
   "cell_type": "markdown",
   "id": "6fa58817",
   "metadata": {},
   "source": [
    " It works like this--\n",
    " if numbers > 5:\n",
    "     numbers * 2\n",
    " else:\n",
    "     numbers"
   ]
  },
  {
   "cell_type": "code",
   "execution_count": 13,
   "id": "b2a2d703",
   "metadata": {},
   "outputs": [
    {
     "name": "stdout",
     "output_type": "stream",
     "text": [
      "Output: [ 1  2  3  4  5 12 14 16 18 20]\n"
     ]
    }
   ],
   "source": [
    "condition_arr = np.where(numbers > 5, numbers*2, numbers)\n",
    "print(\"Output:\",condition_arr)"
   ]
  },
  {
   "cell_type": "markdown",
   "id": "6127da43",
   "metadata": {},
   "source": [
    "### Concatenate Array"
   ]
  },
  {
   "cell_type": "code",
   "execution_count": 14,
   "id": "9dce1996",
   "metadata": {},
   "outputs": [
    {
     "name": "stdout",
     "output_type": "stream",
     "text": [
      "Concatenated Array: [1 2 3 4 5 6]\n"
     ]
    }
   ],
   "source": [
    "arr1 = np.array([1,2,3])\n",
    "arr2 = np.array([4,5,6])\n",
    "\n",
    "combine = np.concatenate((arr1, arr2))\n",
    "print(\"Concatenated Array:\",combine)"
   ]
  },
  {
   "cell_type": "markdown",
   "id": "2401c036",
   "metadata": {},
   "source": [
    "### Array Compatibility"
   ]
  },
  {
   "cell_type": "code",
   "execution_count": 15,
   "id": "96cb29cd",
   "metadata": {},
   "outputs": [
    {
     "name": "stdout",
     "output_type": "stream",
     "text": [
      "Compatibility shape: True\n"
     ]
    }
   ],
   "source": [
    "arr1 = np.array([1,2,3])\n",
    "arr2 = np.array([4,5,6])\n",
    "arr3 = np.array([7,8,9])\n",
    "\n",
    "print(\"Compatibility shape:\", arr1.shape == arr2.shape)"
   ]
  },
  {
   "cell_type": "markdown",
   "id": "2bb7dfca",
   "metadata": {},
   "source": [
    "### Add Array Vertically"
   ]
  },
  {
   "cell_type": "code",
   "execution_count": 16,
   "id": "7b8f2fd3",
   "metadata": {},
   "outputs": [
    {
     "name": "stdout",
     "output_type": "stream",
     "text": [
      "Original Array:\n",
      " [[1 2]\n",
      " [3 4]] \n",
      "\n",
      "with new Row:\n",
      " [[1 2]\n",
      " [3 4]\n",
      " [5 6]]\n"
     ]
    }
   ],
   "source": [
    "org_array = np.array([[1,2],\n",
    "                     [3,4]])\n",
    "\n",
    "new_row = np.array([[5,6]])\n",
    "\n",
    "add_vertical = np.vstack((org_array, new_row))\n",
    "\n",
    "print(\"Original Array:\\n\",org_array,\"\\n\")\n",
    "print(\"with new Row:\\n\",add_vertical)"
   ]
  },
  {
   "cell_type": "markdown",
   "id": "40a2fd4a",
   "metadata": {},
   "source": [
    "### Add Array Horizontally"
   ]
  },
  {
   "cell_type": "code",
   "execution_count": 17,
   "id": "cf9a8ce3",
   "metadata": {},
   "outputs": [
    {
     "name": "stdout",
     "output_type": "stream",
     "text": [
      "Original Array:\n",
      " [[1 2]\n",
      " [3 4]] \n",
      "\n",
      "with new Column:\n",
      " [[1 2 5]\n",
      " [3 4 6]]\n"
     ]
    }
   ],
   "source": [
    "org_array = np.array([[1,2],\n",
    "                     [3,4]])\n",
    "\n",
    "new_column = np.array([[5],[6]])\n",
    "\n",
    "add_vertical = np.hstack((org_array, new_column))\n",
    "\n",
    "print(\"Original Array:\\n\",org_array,\"\\n\")\n",
    "print(\"with new Column:\\n\",add_vertical)"
   ]
  },
  {
   "cell_type": "markdown",
   "id": "3a7f281e",
   "metadata": {},
   "source": [
    "### Delete Element in Array"
   ]
  },
  {
   "cell_type": "code",
   "execution_count": 18,
   "id": "929215e3",
   "metadata": {},
   "outputs": [
    {
     "name": "stdout",
     "output_type": "stream",
     "text": [
      "Array after deletion:  [1 2 4 5 6]\n"
     ]
    }
   ],
   "source": [
    "arr = np.array([1,2,3,4,5,6])\n",
    "\n",
    "delete = np.delete(arr, 2)\n",
    "print(\"Array after deletion: \",delete)"
   ]
  }
 ],
 "metadata": {
  "kernelspec": {
   "display_name": "Python (py130)",
   "language": "python",
   "name": "py130"
  },
  "language_info": {
   "codemirror_mode": {
    "name": "ipython",
    "version": 3
   },
   "file_extension": ".py",
   "mimetype": "text/x-python",
   "name": "python",
   "nbconvert_exporter": "python",
   "pygments_lexer": "ipython3",
   "version": "3.10.18"
  }
 },
 "nbformat": 4,
 "nbformat_minor": 5
}
