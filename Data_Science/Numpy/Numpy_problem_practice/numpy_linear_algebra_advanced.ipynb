{
 "cells": [
  {
   "cell_type": "code",
   "execution_count": 1,
   "id": "d1606cd8",
   "metadata": {},
   "outputs": [],
   "source": [
    "import numpy as np"
   ]
  },
  {
   "cell_type": "markdown",
   "id": "7b409419",
   "metadata": {},
   "source": [
    "### 1. Multiply two 3×3 matrices using np.dot()."
   ]
  },
  {
   "cell_type": "code",
   "execution_count": 4,
   "id": "d55449a7",
   "metadata": {},
   "outputs": [
    {
     "name": "stdout",
     "output_type": "stream",
     "text": [
      "[[ 14  32  50]\n",
      " [ 32  77 122]\n",
      " [ 50 122 194]]\n"
     ]
    }
   ],
   "source": [
    "matrix_1 = np.array([[1,2,3],\n",
    "                     [4,5,6],\n",
    "                     [7,8,9]])\n",
    "\n",
    "matrix_2 = np.array([[1,4,7],\n",
    "                     [2,5,8],\n",
    "                     [3,6,9]])\n",
    "\n",
    "print(np.dot(matrix_1, matrix_2))"
   ]
  },
  {
   "cell_type": "markdown",
   "id": "7b9b10eb",
   "metadata": {},
   "source": [
    "### 2. Calculate the inverse and determinant of matrix:\n",
    "A = np.array([[4,7],[2,6]])"
   ]
  },
  {
   "cell_type": "code",
   "execution_count": 6,
   "id": "8ef34279",
   "metadata": {},
   "outputs": [
    {
     "name": "stdout",
     "output_type": "stream",
     "text": [
      "Inverse of A:\n",
      " [[ 0.6 -0.7]\n",
      " [-0.2  0.4]] \n",
      "\n",
      "Determinant of A:\n",
      " 10.000000000000002\n"
     ]
    }
   ],
   "source": [
    "A = np.array([[4,7],\n",
    "              [2,6]])\n",
    "\n",
    "inverse = np.linalg.inv(A)\n",
    "determinant = np.linalg.det(A)\n",
    "\n",
    "print(\"Inverse of A:\\n\",inverse,\"\\n\")\n",
    "print(\"Determinant of A:\\n\",determinant)"
   ]
  },
  {
   "cell_type": "markdown",
   "id": "d92f3469",
   "metadata": {},
   "source": [
    "### 3. Solve a linear equation:\n",
    "Solve 2x + 3y = 8 and 3x + y = 5 using NumPy."
   ]
  },
  {
   "cell_type": "code",
   "execution_count": null,
   "id": "63167483",
   "metadata": {},
   "outputs": [
    {
     "name": "stdout",
     "output_type": "stream",
     "text": [
      "[1. 2.]\n"
     ]
    }
   ],
   "source": [
    "A = np.array([[2, 3],\n",
    "              [3, 1]])\n",
    "\n",
    "B = np.array([8, 5])\n",
    "\n",
    "x = np.linalg.solve(A, B)\n",
    "print(x)"
   ]
  },
  {
   "cell_type": "markdown",
   "id": "10161f36",
   "metadata": {},
   "source": [
    "### 4. Use np.argmax() to find the index of the maximum row-wise and column-wise."
   ]
  },
  {
   "cell_type": "code",
   "execution_count": 14,
   "id": "9f55eced",
   "metadata": {},
   "outputs": [
    {
     "name": "stdout",
     "output_type": "stream",
     "text": [
      "Column Wise: [1 2 0]\n",
      "Row Wise: [2 0 1]\n"
     ]
    }
   ],
   "source": [
    "arr = np.array([\n",
    "    [10, 50, 90],\n",
    "    [70, 20, 60],\n",
    "    [40, 80, 30]\n",
    "])\n",
    "\n",
    "column_wise = np.argmax(arr, axis=0)\n",
    "row_wise = np.argmax(arr, axis=1)\n",
    "print(\"Column Wise:\",column_wise)\n",
    "print(\"Row Wise:\",row_wise)"
   ]
  },
  {
   "cell_type": "markdown",
   "id": "df0cb2b5",
   "metadata": {},
   "source": [
    "### 5. Create a 5×5 matrix with row values increasing from 0 to 4."
   ]
  },
  {
   "cell_type": "code",
   "execution_count": 24,
   "id": "110b3227",
   "metadata": {},
   "outputs": [
    {
     "name": "stdout",
     "output_type": "stream",
     "text": [
      "[[0 1 2 3 4]\n",
      " [0 1 2 3 4]\n",
      " [0 1 2 3 4]\n",
      " [0 1 2 3 4]\n",
      " [0 1 2 3 4]]\n"
     ]
    }
   ],
   "source": [
    "array = np.tile(np.arange(5), (5, 1))\n",
    "print(array)"
   ]
  }
 ],
 "metadata": {
  "kernelspec": {
   "display_name": "Python (py130)",
   "language": "python",
   "name": "py130"
  },
  "language_info": {
   "codemirror_mode": {
    "name": "ipython",
    "version": 3
   },
   "file_extension": ".py",
   "mimetype": "text/x-python",
   "name": "python",
   "nbconvert_exporter": "python",
   "pygments_lexer": "ipython3",
   "version": "3.10.18"
  }
 },
 "nbformat": 4,
 "nbformat_minor": 5
}
