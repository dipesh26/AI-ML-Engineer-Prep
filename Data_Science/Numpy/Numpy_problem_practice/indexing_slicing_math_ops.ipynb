{
 "cells": [
  {
   "cell_type": "code",
   "execution_count": 2,
   "id": "e191327d",
   "metadata": {},
   "outputs": [],
   "source": [
    "import numpy as np"
   ]
  },
  {
   "cell_type": "markdown",
   "id": "d1ea237a",
   "metadata": {},
   "source": [
    "### 1. Given a 4×4 matrix, extract the central 2×2 block."
   ]
  },
  {
   "cell_type": "code",
   "execution_count": 5,
   "id": "c46d7b11",
   "metadata": {},
   "outputs": [
    {
     "name": "stdout",
     "output_type": "stream",
     "text": [
      "[[ 6  7]\n",
      " [10 11]]\n"
     ]
    }
   ],
   "source": [
    "arr = np.array([[1,2,3,4],\n",
    "                [5,6,7,8],\n",
    "                [9,10,11,12],\n",
    "                [13,14,15,16]])\n",
    "\n",
    "print(arr[1:-1, 1:-1])\n",
    "\n"
   ]
  },
  {
   "cell_type": "markdown",
   "id": "ffdea28a",
   "metadata": {},
   "source": [
    "### 2. Find the mean, median, and standard deviation of an array."
   ]
  },
  {
   "cell_type": "code",
   "execution_count": 17,
   "id": "0893ef5b",
   "metadata": {},
   "outputs": [
    {
     "name": "stdout",
     "output_type": "stream",
     "text": [
      "Mean: 5.0\n",
      "Median: 5.0\n",
      "Standard: 3\n"
     ]
    }
   ],
   "source": [
    "array = np.array([1,2,3,4,5,6,7,8,9])\n",
    "\n",
    "print(\"Mean:\",np.mean(array))\n",
    "print(\"Median:\",np.median(array))\n",
    "print(\"Standard:\",round(np.std(array)))"
   ]
  },
  {
   "cell_type": "markdown",
   "id": "520c64bf",
   "metadata": {},
   "source": [
    "### 3. For array [10, 20, 30, 40], create an array where each element is squared minus 10."
   ]
  },
  {
   "cell_type": "code",
   "execution_count": 27,
   "id": "5e4d9662",
   "metadata": {},
   "outputs": [
    {
     "name": "stdout",
     "output_type": "stream",
     "text": [
      "[  90  390  890 1590]\n"
     ]
    }
   ],
   "source": [
    "arr = np.array([10, 20, 30, 40])\n",
    "print(np.square(arr) - 10)"
   ]
  },
  {
   "cell_type": "markdown",
   "id": "11e5fc62",
   "metadata": {},
   "source": [
    "### 4. Use np.where() to find the indices of elements greater than 50 in an array."
   ]
  },
  {
   "cell_type": "code",
   "execution_count": 40,
   "id": "a929a761",
   "metadata": {},
   "outputs": [
    {
     "name": "stdout",
     "output_type": "stream",
     "text": [
      "Indices of element > 50: [3 4 5 6 7 8]\n"
     ]
    }
   ],
   "source": [
    "array = np.array([30,40,50,55,60,70,80,90,100])\n",
    "indices = np.where(array > 50)\n",
    "print(\"Indices of element > 50:\",indices[0])"
   ]
  },
  {
   "cell_type": "markdown",
   "id": "02376d9d",
   "metadata": {},
   "source": [
    "### 5. From a 2D matrix, extract rows where the sum is greater than 100."
   ]
  },
  {
   "cell_type": "code",
   "execution_count": 58,
   "id": "89bcf97b",
   "metadata": {},
   "outputs": [
    {
     "name": "stdout",
     "output_type": "stream",
     "text": [
      "[[40 10 25 35]]\n"
     ]
    }
   ],
   "source": [
    "arr = np.array([[10,15,25,35],\n",
    "                [17,25,11,21],\n",
    "                [40,10,25,35],\n",
    "                [12,28,18,35]])\n",
    "\n",
    "row_sum = np.sum(arr, axis=1)\n",
    "mask = row_sum > 100\n",
    "filtered_row = arr[mask]\n",
    "print(filtered_row)"
   ]
  }
 ],
 "metadata": {
  "kernelspec": {
   "display_name": "Python (py130)",
   "language": "python",
   "name": "py130"
  },
  "language_info": {
   "codemirror_mode": {
    "name": "ipython",
    "version": 3
   },
   "file_extension": ".py",
   "mimetype": "text/x-python",
   "name": "python",
   "nbconvert_exporter": "python",
   "pygments_lexer": "ipython3",
   "version": "3.10.18"
  }
 },
 "nbformat": 4,
 "nbformat_minor": 5
}
