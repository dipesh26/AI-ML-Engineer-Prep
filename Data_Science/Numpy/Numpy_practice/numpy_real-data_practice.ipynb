{
 "cells": [
  {
   "cell_type": "code",
   "execution_count": null,
   "id": "b0432e11",
   "metadata": {},
   "outputs": [],
   "source": [
    "import numpy as np"
   ]
  },
  {
   "cell_type": "markdown",
   "id": "833115cf",
   "metadata": {},
   "source": [
    "### Data structure: [restaurant_id, 2021, 2022, 2023, 2024]"
   ]
  },
  {
   "cell_type": "code",
   "execution_count": null,
   "id": "29ff10ef",
   "metadata": {},
   "outputs": [],
   "source": [
    "# Data\n",
    "sales_data = np.array([\n",
    "[\"id\", \"rest_name\",       \"2021\", \"2022\", \"2023\", \"2024\"],\n",
    "[1,    \"Paradise Biryani\", 150000, 180000, 220000, 250000], # Paradise Biryani\n",
    "[2,    \"Beijing Bites\",    120000, 140000, 160000, 190000], # Beijing Bites\n",
    "[3,    \"Pizza Hub\",        200000, 230000, 260000, 300000], # Pizza Hub\n",
    "[4,    \"Burger Point\",     180000, 210000, 240000, 270000], # Burger Point\n",
    "[5,    \"Chai Point\",       160000, 185000, 205000, 230000]  # Chai Point\n",
    "])\n",
    "\n",
    "numeric_data = sales_data[1: ,2:].astype(int)\n",
    "\n",
    "print(\"Shape of Data:\",sales_data.shape)\n",
    "print(\"Dimension of Data:\",sales_data.ndim)\n",
    "print(\"Size of Data:\",sales_data.size)\n",
    "print(\"Data Type of Data:\",sales_data.dtype)\n",
    "print(\"Sum of Data:\",np.sum(numeric_data, axis=1))\n",
    "print(f\"Average Sales of '{sales_data[1,1]}': {np.mean(numeric_data[0],)}\")\n",
    "# print(numeric_data)"
   ]
  },
  {
   "cell_type": "markdown",
   "id": "a61c4440",
   "metadata": {},
   "source": [
    "#### Average Sales per restaurant (using loop)"
   ]
  },
  {
   "cell_type": "code",
   "execution_count": null,
   "id": "892dece0",
   "metadata": {},
   "outputs": [],
   "source": [
    "for i in range(len(numeric_data)):\n",
    "    names = sales_data[i+1, 1]\n",
    "    avg_sales = np.mean(numeric_data[i])\n",
    "    print(f\"Average Sales of {names}: ₹{avg_sales}\")"
   ]
  },
  {
   "cell_type": "markdown",
   "id": "4fa18b2b",
   "metadata": {},
   "source": [
    "#### List all the names of Restaurants in data."
   ]
  },
  {
   "cell_type": "code",
   "execution_count": null,
   "id": "b7174d73",
   "metadata": {},
   "outputs": [],
   "source": [
    "print(\"Restaurant names:\",sales_data[1: ,1])"
   ]
  },
  {
   "cell_type": "markdown",
   "id": "4773e565",
   "metadata": {},
   "source": [
    "#### Average sales of zomato in 2023"
   ]
  },
  {
   "cell_type": "code",
   "execution_count": null,
   "id": "b3ed6599",
   "metadata": {},
   "outputs": [],
   "source": [
    "sales_2023 = numeric_data[0: ,2]\n",
    "print(\"Average Sales of Zomato in 2023:\",np.mean(sales_2023))"
   ]
  },
  {
   "cell_type": "markdown",
   "id": "799f3217",
   "metadata": {},
   "source": [
    "#### Average sales of zomato year wise"
   ]
  },
  {
   "cell_type": "code",
   "execution_count": null,
   "id": "c155fef6",
   "metadata": {},
   "outputs": [],
   "source": [
    "years = sales_data[0, 2:]\n",
    "\n",
    "for i in range(len(years)):\n",
    "    avg_year_sales = np.mean(numeric_data[: ,i])\n",
    "    print(f\"Average sales of zomato in {years[i]}: ₹{avg_year_sales}\")"
   ]
  },
  {
   "cell_type": "markdown",
   "id": "25fcd766",
   "metadata": {},
   "source": [
    "#### Minimum Sales per Restaurant"
   ]
  },
  {
   "cell_type": "code",
   "execution_count": null,
   "id": "16966d41",
   "metadata": {},
   "outputs": [],
   "source": [
    "for i in range(len(numeric_data)):\n",
    "    names = sales_data[i+1 ,1]\n",
    "    min_sales = np.min(numeric_data[i])\n",
    "    print(f\"Minimum sales of {names}: ₹{min_sales}\")"
   ]
  },
  {
   "cell_type": "markdown",
   "id": "0265fcf7",
   "metadata": {},
   "source": [
    "#### Maximum Sales per Restaurant"
   ]
  },
  {
   "cell_type": "code",
   "execution_count": null,
   "id": "66d6f166",
   "metadata": {},
   "outputs": [],
   "source": [
    "for i in range(len(numeric_data)):\n",
    "    names = sales_data[i+1 ,1]\n",
    "    min_sales = np.max(numeric_data[i])\n",
    "    print(f\"Minimum sales of {names}: ₹{min_sales}\")"
   ]
  },
  {
   "cell_type": "markdown",
   "id": "d2d5b0bf",
   "metadata": {},
   "source": [
    "#### Minimum Sales per year"
   ]
  },
  {
   "cell_type": "code",
   "execution_count": null,
   "id": "12f29730",
   "metadata": {},
   "outputs": [],
   "source": [
    "years = sales_data[0, 2:]\n",
    "\n",
    "for i in range(len(years)):\n",
    "    min_year_sales = np.min(numeric_data[:, i])\n",
    "    print(f\"Minimum Sales in {years[i]}: ₹{min_year_sales}\")"
   ]
  },
  {
   "cell_type": "markdown",
   "id": "14bf61ed",
   "metadata": {},
   "source": [
    "#### Cumulative Sales per Restaurant"
   ]
  },
  {
   "cell_type": "code",
   "execution_count": null,
   "id": "379775ed",
   "metadata": {},
   "outputs": [],
   "source": [
    "print(f\"Cumulative Sales of Restaurants:\")\n",
    "for i in range(len(numeric_data)):\n",
    "    names = sales_data[i+1, 1]\n",
    "    cumsum = np.cumsum(numeric_data[i])\n",
    "    print(f\"{names}: {cumsum}\")"
   ]
  },
  {
   "cell_type": "markdown",
   "id": "55bbb616",
   "metadata": {},
   "source": [
    "#### Normalize Data"
   ]
  },
  {
   "cell_type": "code",
   "execution_count": 17,
   "id": "2a357e38",
   "metadata": {},
   "outputs": [
    {
     "name": "stdout",
     "output_type": "stream",
     "text": [
      "Mean of Data: [40. 70. 95.] \n",
      "\n",
      "Std of Data: [10. 10.  5.] \n",
      "\n",
      "Normalized Data:\n",
      " [[ 1.  1. -1.]\n",
      " [-1. -1.  1.]]\n"
     ]
    }
   ],
   "source": [
    "data = np.array([[50, 80, 90],\n",
    "                 [30, 60, 100]])\n",
    "\n",
    "mean = data.mean(axis=0)  # Column-wise mean\n",
    "print(\"Mean of Data:\",mean,\"\\n\")\n",
    "\n",
    "std = data.std(axis=0)  # Column-wise mean\n",
    "print(\"Std of Data:\",std,\"\\n\")\n",
    "\n",
    "normalized = (data - mean) / std  # Broadcasting\n",
    "print(\"Normalized Data:\\n\",normalized)"
   ]
  }
 ],
 "metadata": {
  "kernelspec": {
   "display_name": "Python (py130)",
   "language": "python",
   "name": "py130"
  },
  "language_info": {
   "codemirror_mode": {
    "name": "ipython",
    "version": 3
   },
   "file_extension": ".py",
   "mimetype": "text/x-python",
   "name": "python",
   "nbconvert_exporter": "python",
   "pygments_lexer": "ipython3",
   "version": "3.10.18"
  }
 },
 "nbformat": 4,
 "nbformat_minor": 5
}
