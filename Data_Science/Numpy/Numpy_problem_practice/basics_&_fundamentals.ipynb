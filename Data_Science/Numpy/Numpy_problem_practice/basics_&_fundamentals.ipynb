{
 "cells": [
  {
   "cell_type": "code",
   "execution_count": null,
   "id": "aa913a79",
   "metadata": {},
   "outputs": [],
   "source": [
    "import numpy as np"
   ]
  },
  {
   "cell_type": "markdown",
   "id": "4d92ae7c",
   "metadata": {},
   "source": [
    "### 1. Create a 5×5 NumPy array filled with zeros. Then set the border to 1."
   ]
  },
  {
   "cell_type": "code",
   "execution_count": 22,
   "id": "bde177d6",
   "metadata": {},
   "outputs": [
    {
     "name": "stdout",
     "output_type": "stream",
     "text": [
      "[[1. 1. 1. 1. 1.]\n",
      " [1. 0. 0. 0. 1.]\n",
      " [1. 0. 0. 0. 1.]\n",
      " [1. 0. 0. 0. 1.]\n",
      " [1. 1. 1. 1. 1.]]\n"
     ]
    }
   ],
   "source": [
    "arr = np.zeros((5, 5))\n",
    "arr[0, :] = 1\n",
    "arr[4, :] = 1\n",
    "arr[:, 0] = 1\n",
    "arr[:, -1] = 1\n",
    "print(arr)"
   ]
  },
  {
   "cell_type": "markdown",
   "id": "60f8c190",
   "metadata": {},
   "source": [
    "### 2. Create a 1D array of numbers from 10 to 50 and reverse it."
   ]
  },
  {
   "cell_type": "code",
   "execution_count": 24,
   "id": "05da73b4",
   "metadata": {},
   "outputs": [
    {
     "name": "stdout",
     "output_type": "stream",
     "text": [
      "[50 49 48 47 46 45 44 43 42 41 40 39 38 37 36 35 34 33 32 31 30 29 28 27\n",
      " 26 25 24 23 22 21 20 19 18 17 16 15 14 13 12 11 10]\n"
     ]
    }
   ],
   "source": [
    "arr_1d = np.arange(10, 51)\n",
    "print(arr_1d[::-1])"
   ]
  },
  {
   "cell_type": "markdown",
   "id": "400205af",
   "metadata": {},
   "source": [
    "### 3. Generate a 3×3 identity matrix."
   ]
  },
  {
   "cell_type": "code",
   "execution_count": 35,
   "id": "82c60a6f",
   "metadata": {},
   "outputs": [
    {
     "name": "stdout",
     "output_type": "stream",
     "text": [
      "[[1. 0. 0.]\n",
      " [0. 1. 0.]\n",
      " [0. 0. 1.]]\n"
     ]
    }
   ],
   "source": [
    "arr = np.eye(3)\n",
    "print(arr)"
   ]
  },
  {
   "cell_type": "markdown",
   "id": "41497f81",
   "metadata": {},
   "source": [
    "### 4. Check if two NumPy arrays are equal:\n",
    "a = np.array([1,2,3]), b = np.array([1,2,4])"
   ]
  },
  {
   "cell_type": "code",
   "execution_count": 43,
   "id": "b0cca42e",
   "metadata": {},
   "outputs": [
    {
     "name": "stdout",
     "output_type": "stream",
     "text": [
      "[ True  True False]\n"
     ]
    }
   ],
   "source": [
    "a = np.array([1,2,3])\n",
    "b = np.array([1,2,4])\n",
    "print(a == b)"
   ]
  },
  {
   "cell_type": "markdown",
   "id": "a5cba1cd",
   "metadata": {},
   "source": [
    "### 5. Replace all odd numbers in the array arr = np.arange(10) with -1."
   ]
  },
  {
   "cell_type": "code",
   "execution_count": 56,
   "id": "ffa42d24",
   "metadata": {},
   "outputs": [
    {
     "name": "stdout",
     "output_type": "stream",
     "text": [
      "[ 0 -1  2 -1  4 -1  6 -1  8 -1]\n"
     ]
    }
   ],
   "source": [
    "array = np.arange(10)\n",
    "array[array % 2 == 1] = -1\n",
    "print(array)"
   ]
  }
 ],
 "metadata": {
  "kernelspec": {
   "display_name": "Python (py130)",
   "language": "python",
   "name": "py130"
  },
  "language_info": {
   "codemirror_mode": {
    "name": "ipython",
    "version": 3
   },
   "file_extension": ".py",
   "mimetype": "text/x-python",
   "name": "python",
   "nbconvert_exporter": "python",
   "pygments_lexer": "ipython3",
   "version": "3.10.18"
  }
 },
 "nbformat": 4,
 "nbformat_minor": 5
}
